{
 "cells": [
  {
   "cell_type": "code",
   "execution_count": 1,
   "metadata": {
    "collapsed": false
   },
   "outputs": [
    {
     "name": "stdout",
     "output_type": "stream",
     "text": [
      "Development Notebook.ipynb  sample_notebook.ipynb\r\n",
      "\u001b[34mPickles_Folder\u001b[m\u001b[m              summerize_pickles.py\r\n",
      "Pickles_Folder?hrees.pickle summerize_pickles.pyc\r\n",
      "README.md\r\n"
     ]
    }
   ],
   "source": [
    "!ls"
   ]
  },
  {
   "cell_type": "code",
   "execution_count": 3,
   "metadata": {
    "collapsed": false
   },
   "outputs": [],
   "source": [
    "filepath = 'sample_notebook.ipynb'\n",
    "\n",
    "\n",
    "from IPython.nbformat import current as nbformat\n",
    "\n",
    "with open(filepath) as fh:\n",
    "    nb = nbformat.reads_json(fh.read())"
   ]
  },
  {
   "cell_type": "code",
   "execution_count": 4,
   "metadata": {
    "collapsed": false
   },
   "outputs": [
    {
     "data": {
      "text/plain": [
       "[{u'cell_type': u'code',\n",
       "  'collapsed': True,\n",
       "  'input': u'import pandas as pd',\n",
       "  'language': 'python',\n",
       "  u'metadata': {},\n",
       "  u'outputs': [],\n",
       "  'prompt_number': 1},\n",
       " {u'cell_type': u'code',\n",
       "  'collapsed': True,\n",
       "  'input': u'import pickle',\n",
       "  'language': 'python',\n",
       "  u'metadata': {},\n",
       "  u'outputs': [],\n",
       "  'prompt_number': 17},\n",
       " {u'cell_type': u'code',\n",
       "  'collapsed': True,\n",
       "  'input': u'# Some text\\nodds = pd.read_pickle(\"Pickles_Folder/odds.pickle\")\\nodds_duplicate1 = pd.read_pickle(\"Pickles_Folder/odds.pickle\")\\n# Some text 2',\n",
       "  'language': 'python',\n",
       "  u'metadata': {},\n",
       "  u'outputs': [],\n",
       "  'prompt_number': 24}]"
      ]
     },
     "execution_count": 4,
     "metadata": {},
     "output_type": "execute_result"
    }
   ],
   "source": [
    "nb[\"worksheets\"][0][\"cells\"][0:3]"
   ]
  },
  {
   "cell_type": "code",
   "execution_count": 5,
   "metadata": {
    "collapsed": false
   },
   "outputs": [
    {
     "name": "stdout",
     "output_type": "stream",
     "text": [
      "----------------------------------------------------------------------------------------------------------------\n",
      "import pickle\n",
      "----------------------------------------------------------------------------------------------------------------\n",
      "odds = pd.read_pickle(\"Pickles_Folder/odds.pickle\")\n",
      "input\n",
      "----------------------------------------------------------------------------------------------------------------\n",
      "odds_duplicate1 = pd.read_pickle(\"Pickles_Folder/odds.pickle\")\n",
      "input\n",
      "----------------------------------------------------------------------------------------------------------------\n",
      "odds_duplicate2 = pickle.load( open( \"Pickles_Folder/odds.pickle\", \"rb\" ) )\n",
      "input\n",
      "----------------------------------------------------------------------------------------------------------------\n",
      "evens.to_pickle(\"Pickles_Folder/evens.pickle\")\n",
      "output\n",
      "----------------------------------------------------------------------------------------------------------------\n",
      "pickle.dump( threes, open( \"Pickles_Folder/threes.pickle\", \"wb\" ) )\n",
      "output\n"
     ]
    }
   ],
   "source": [
    "import re\n",
    "\n",
    "list_of_input_pickles = []\n",
    "list_of_output_pickles = []\n",
    "\n",
    "\n",
    "for cell in nb[\"worksheets\"][0][\"cells\"]:\n",
    "    # This confirms there is at least one pickle in it.\n",
    "    if cell[\"cell_type\"] != \"code\" or cell[\"input\"].find(\"pickle\") == -1:   # Skipping over those cells which aren't code or those cells with code but which don't reference \"pickle\n",
    "        continue\n",
    "         \n",
    "    cell_content = cell[\"input\"]\n",
    "    \n",
    "    for line in cell_content.splitlines():\n",
    "        if line.find(\"pickle\") == -1:  # Skips over lines w/ no mention of \"pickle\" to potentially reduce the number of times it's searched.\n",
    "            continue\n",
    "        print '----------------------------------------------------------------------------------------------------------------'\n",
    "        print line\n",
    "\n",
    "        ############################    ############################    ############################    ############################\n",
    "        code_type = str()\n",
    "        if line.find(\"pickle.dump\") != -1 or line.find(\".to_pickle\")!= -1:\n",
    "            code_type = \"output\"       \n",
    "        elif line.find(\"pickle.load\") != -1 or line.find(\".read_pickle\")!= -1:\n",
    "            code_type = \"input\"\n",
    "        else:\n",
    "            continue   # This tells the code to skip over lines like \"import cpickle as pickle\"\n",
    "        print code_type\n",
    "        ############################    ############################    ############################    ############################\n",
    "        filename = re.findall(r'\"(.*?)\"', line)   # This gets all the content between the quotes. See: http://stackoverflow.com/questions/171480/regex-grabbing-values-between-quotation-marks    \n",
    "        ############################    ############################    ############################    ############################        \n",
    "        if code_type == \"input\":\n",
    "            list_of_input_pickles.append(filename[0])\n",
    "        elif code_type == \"output\":\n",
    "            list_of_output_pickles.append(filename[0]) \n",
    "\n",
    "                \n",
    "pickles_dict = {\"input_pickles\":list_of_input_pickles,\n",
    "                \"output_pickles\":list_of_output_pickles }\n"
   ]
  },
  {
   "cell_type": "code",
   "execution_count": null,
   "metadata": {
    "collapsed": true
   },
   "outputs": [],
   "source": []
  },
  {
   "cell_type": "code",
   "execution_count": 6,
   "metadata": {
    "collapsed": false
   },
   "outputs": [
    {
     "data": {
      "text/plain": [
       "[u'Pickles_Folder/odds.pickle',\n",
       " u'Pickles_Folder/odds.pickle',\n",
       " u'Pickles_Folder/odds.pickle']"
      ]
     },
     "execution_count": 6,
     "metadata": {},
     "output_type": "execute_result"
    }
   ],
   "source": [
    "list_of_input_pickles"
   ]
  },
  {
   "cell_type": "code",
   "execution_count": 7,
   "metadata": {
    "collapsed": false
   },
   "outputs": [
    {
     "data": {
      "text/plain": [
       "[u'Pickles_Folder/evens.pickle', u'Pickles_Folder/threes.pickle']"
      ]
     },
     "execution_count": 7,
     "metadata": {},
     "output_type": "execute_result"
    }
   ],
   "source": [
    "list_of_output_pickles"
   ]
  },
  {
   "cell_type": "code",
   "execution_count": 9,
   "metadata": {
    "collapsed": false
   },
   "outputs": [
    {
     "data": {
      "text/plain": [
       "[('input_pickles',\n",
       "  [u'Pickles_Folder/odds.pickle',\n",
       "   u'Pickles_Folder/odds.pickle',\n",
       "   u'Pickles_Folder/odds.pickle']),\n",
       " ('output_pickles',\n",
       "  [u'Pickles_Folder/evens.pickle', u'Pickles_Folder/threes.pickle'])]"
      ]
     },
     "execution_count": 9,
     "metadata": {},
     "output_type": "execute_result"
    }
   ],
   "source": [
    "pickles_dict.items()"
   ]
  },
  {
   "cell_type": "code",
   "execution_count": null,
   "metadata": {
    "collapsed": false
   },
   "outputs": [],
   "source": []
  },
  {
   "cell_type": "code",
   "execution_count": null,
   "metadata": {
    "collapsed": true
   },
   "outputs": [],
   "source": []
  },
  {
   "cell_type": "code",
   "execution_count": 10,
   "metadata": {
    "collapsed": true
   },
   "outputs": [],
   "source": [
    "from summerize_pickles import summerize_pickles"
   ]
  },
  {
   "cell_type": "code",
   "execution_count": 11,
   "metadata": {
    "collapsed": false
   },
   "outputs": [
    {
     "data": {
      "text/plain": [
       "{'input_pickles': [u'Pickles_Folder/odds.pickle',\n",
       "  u'Pickles_Folder/odds.pickle',\n",
       "  u'Pickles_Folder/odds.pickle'],\n",
       " 'output_pickles': [u'Pickles_Folder/evens.pickle',\n",
       "  u'Pickles_Folder/threes.pickle']}"
      ]
     },
     "execution_count": 11,
     "metadata": {},
     "output_type": "execute_result"
    }
   ],
   "source": [
    "summerize_pickles(\"sample_notebook.ipynb\")"
   ]
  },
  {
   "cell_type": "code",
   "execution_count": null,
   "metadata": {
    "collapsed": true
   },
   "outputs": [],
   "source": [
    "# Output is the same!"
   ]
  }
 ],
 "metadata": {
  "kernelspec": {
   "display_name": "Python 2",
   "language": "python",
   "name": "python2"
  },
  "language_info": {
   "codemirror_mode": {
    "name": "ipython",
    "version": 2
   },
   "file_extension": ".py",
   "mimetype": "text/x-python",
   "name": "python",
   "nbconvert_exporter": "python",
   "pygments_lexer": "ipython2",
   "version": "2.7.11"
  }
 },
 "nbformat": 4,
 "nbformat_minor": 0
}

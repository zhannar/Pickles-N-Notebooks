{
 "cells": [
  {
   "cell_type": "code",
   "execution_count": 4,
   "metadata": {
    "collapsed": false
   },
   "outputs": [],
   "source": [
    "!cd 01-Not\\ Relevant\\ for\\ Final\\ Output "
   ]
  },
  {
   "cell_type": "code",
   "execution_count": 6,
   "metadata": {
    "collapsed": false
   },
   "outputs": [
    {
     "ename": "SyntaxError",
     "evalue": "EOL while scanning string literal (<ipython-input-6-106e8adbb659>, line 1)",
     "output_type": "error",
     "traceback": [
      "\u001b[0;36m  File \u001b[0;32m\"<ipython-input-6-106e8adbb659>\"\u001b[0;36m, line \u001b[0;32m1\u001b[0m\n\u001b[0;31m    text = 'n\",\u001b[0m\n\u001b[0m              ^\u001b[0m\n\u001b[0;31mSyntaxError\u001b[0m\u001b[0;31m:\u001b[0m EOL while scanning string literal\n"
     ]
    }
   ],
   "source": [
    "text = 'n\",\n",
    "    \"import time\\n\",\n",
    "    \"\\n\",\n",
    "    \"import cPickle as pickle\"\n",
    "   ]\n",
    "  },\n",
    "  {\n",
    "   \"cell_type\": \"markdown\",\n",
    "   \"metadata\": {\n",
    "        \n",
    "        rce\": [\n",
    "    \"# list_of_google_news_urls = []\\n\",\n",
    "    \"\\n\",\n",
    "    \"# list_of_google_news_urls = pickle.load( open( \\\"list_of_google_news_urls.pickle\\\", \\\"rb\\\" ) )\"\n",
    "   ]\n",
    "  },\n",
    "  {\n",
    "   \"cell_type\": \"code\",\n",
    "   \"execution_count\": 141,\n",
    "\n",
    ",\n",
    "   \"outputs\": [],\n",
    "   \"source\": [\n",
    "    \"pickle.dump( set_of_google_news_urls, open( \\\"set_of_google_news_urls.pickle\\\", \\\"wb\\\" ) )\"\n",
    "   ]\n",
    "  },\n",
    "\n",
    "\n",
    "'"
   ]
  },
  {
   "cell_type": "code",
   "execution_count": null,
   "metadata": {
    "collapsed": true
   },
   "outputs": [],
   "source": []
  },
  {
   "cell_type": "code",
   "execution_count": null,
   "metadata": {
    "collapsed": true
   },
   "outputs": [],
   "source": []
  },
  {
   "cell_type": "code",
   "execution_count": null,
   "metadata": {
    "collapsed": true
   },
   "outputs": [],
   "source": []
  },
  {
   "cell_type": "code",
   "execution_count": 20,
   "metadata": {
    "collapsed": false
   },
   "outputs": [
    {
     "data": {
      "text/plain": [
       "[u'nbformat_minor',\n",
       " u'nbformat',\n",
       " 'orig_nbformat',\n",
       " 'worksheets',\n",
       " 'orig_nbformat_minor',\n",
       " u'metadata']"
      ]
     },
     "execution_count": 20,
     "metadata": {},
     "output_type": "execute_result"
    }
   ],
   "source": [
    "from IPython.nbformat import current as nbformat\n",
    "from IPython.nbconvert import PythonExporter\n",
    "\n",
    "filepath = '0---Copied to Main/Part 1 -- Get Google Search News Articles.ipynb'\n",
    "#export_path = 'path/to/my_notebook.py'\n",
    "\n",
    "with open(filepath) as fh:\n",
    "    nb = nbformat.reads_json(fh.read())\n",
    "\n",
    "nb.keys()    \n",
    "    \n",
    "# exporter = PythonExporter()\n",
    "\n",
    "# # source is a tuple of python source code\n",
    "# # meta contains metadata\n",
    "# #source, meta = exporter.add_traits\n",
    "\n",
    "# exporter.from_notebook_node(nb)\n",
    "\n",
    "# # with open(export_path, 'w+') as fh:\n",
    "# #     fh.writelines(source)"
   ]
  },
  {
   "cell_type": "code",
   "execution_count": 33,
   "metadata": {
    "collapsed": false
   },
   "outputs": [
    {
     "data": {
      "text/plain": [
       "0"
      ]
     },
     "execution_count": 33,
     "metadata": {},
     "output_type": "execute_result"
    }
   ],
   "source": [
    "nb[\"nbformat_minor\"]"
   ]
  },
  {
   "cell_type": "code",
   "execution_count": 37,
   "metadata": {
    "collapsed": false
   },
   "outputs": [
    {
     "ename": "AttributeError",
     "evalue": "'list' object has no attribute 'keys'",
     "output_type": "error",
     "traceback": [
      "\u001b[0;31m---------------------------------------------------------------------------\u001b[0m",
      "\u001b[0;31mAttributeError\u001b[0m                            Traceback (most recent call last)",
      "\u001b[0;32m<ipython-input-37-427c2ce166e9>\u001b[0m in \u001b[0;36m<module>\u001b[0;34m()\u001b[0m\n\u001b[0;32m----> 1\u001b[0;31m \u001b[0mnb\u001b[0m\u001b[0;34m[\u001b[0m\u001b[0;34m\"worksheets\"\u001b[0m\u001b[0;34m]\u001b[0m\u001b[0;34m[\u001b[0m\u001b[0;36m0\u001b[0m\u001b[0;34m]\u001b[0m\u001b[0;34m[\u001b[0m\u001b[0;34m\"cells\"\u001b[0m\u001b[0;34m]\u001b[0m\u001b[0;34m.\u001b[0m\u001b[0mkeys\u001b[0m\u001b[0;34m(\u001b[0m\u001b[0;34m)\u001b[0m\u001b[0;34m\u001b[0m\u001b[0m\n\u001b[0m",
      "\u001b[0;31mAttributeError\u001b[0m: 'list' object has no attribute 'keys'"
     ]
    }
   ],
   "source": [
    "nb[\"worksheets\"][0][\"cells\"]"
   ]
  },
  {
   "cell_type": "code",
   "execution_count": null,
   "metadata": {
    "collapsed": true
   },
   "outputs": [],
   "source": [
    "    need to account for the following cases:\n",
    "        cpickle vs pickle\n",
    "        pickling as python"
   ]
  },
  {
   "cell_type": "code",
   "execution_count": 60,
   "metadata": {
    "collapsed": false
   },
   "outputs": [
    {
     "name": "stdout",
     "output_type": "stream",
     "text": [
      "==========\n",
      "==========\n",
      "==========\n",
      "==========\n"
     ]
    }
   ],
   "source": [
    "list_of_input_pickles = []\n",
    "list_of_output_pickles = []\n",
    "\n",
    "\n",
    "for cell in nb[\"worksheets\"][0][\"cells\"]:\n",
    "    if cell[\"cell_type\"] != \"code\" or cell[\"input\"].find(\"pickle\") == -1:   # Skipping over those cells which aren't code or those cells with code but which don't reference \"pickle\n",
    "        continue\n",
    "         \n",
    "    cell_content = cell[\"input\"]\n",
    "    \n",
    "#     for x in cell[\"input\"]:\n",
    "#         print x\n",
    "#         print \"--\"\n",
    "\n",
    "    \n",
    "    print \"==========\""
   ]
  },
  {
   "cell_type": "code",
   "execution_count": 61,
   "metadata": {
    "collapsed": false
   },
   "outputs": [
    {
     "data": {
      "text/plain": [
       "u'pickle.dump( list_of_google_news_urls, open( \"list_of_google_news_urls.pickle\", \"wb\" ) )'"
      ]
     },
     "execution_count": 61,
     "metadata": {},
     "output_type": "execute_result"
    }
   ],
   "source": [
    "cell_content"
   ]
  },
  {
   "cell_type": "code",
   "execution_count": null,
   "metadata": {
    "collapsed": true
   },
   "outputs": [],
   "source": [
    "code_type = str()\n",
    "\n",
    "if cell_content.find(\"pickle.dump\") != -1 or cell_content.find(\".to_pickle\"):\n",
    "    code_type = \"export\"\n",
    "if cell_content.find(\"pickle.dump\") != -1 or cell_content.find(\".to_pickle\"):\n",
    "    code_type = \"export\"    "
   ]
  },
  {
   "cell_type": "code",
   "execution_count": 63,
   "metadata": {
    "collapsed": false
   },
   "outputs": [
    {
     "name": "stdout",
     "output_type": "stream",
     "text": [
      "0\n"
     ]
    }
   ],
   "source": [
    "def extract_name_of_exported_pickle(cell_content):\n",
    "    print cell_content.find(\"pickle.dump\")\n",
    "    \n",
    "    \n",
    "extract_name_of_exported_pickle(cell_content)    "
   ]
  },
  {
   "cell_type": "code",
   "execution_count": null,
   "metadata": {
    "collapsed": true
   },
   "outputs": [],
   "source": []
  }
 ],
 "metadata": {
  "kernelspec": {
   "display_name": "Python 2",
   "language": "python",
   "name": "python2"
  },
  "language_info": {
   "codemirror_mode": {
    "name": "ipython",
    "version": 2
   },
   "file_extension": ".py",
   "mimetype": "text/x-python",
   "name": "python",
   "nbconvert_exporter": "python",
   "pygments_lexer": "ipython2",
   "version": "2.7.11"
  }
 },
 "nbformat": 4,
 "nbformat_minor": 0
}
